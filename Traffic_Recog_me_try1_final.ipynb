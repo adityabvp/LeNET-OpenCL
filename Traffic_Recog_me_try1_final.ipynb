{
  "nbformat": 4,
  "nbformat_minor": 0,
  "metadata": {
    "colab": {
      "name": "Traffic_Recog_me_try1_final.ipynb",
      "provenance": [],
      "collapsed_sections": [],
      "toc_visible": true
    },
    "kernelspec": {
      "name": "python3",
      "display_name": "Python 3"
    },
    "accelerator": "GPU"
  },
  "cells": [
    {
      "cell_type": "code",
      "metadata": {
        "id": "AkIlvF0qZVe4",
        "colab_type": "code",
        "outputId": "b21c1c7d-133f-4005-fad3-3c6ce4456358",
        "colab": {
          "base_uri": "https://localhost:8080/",
          "height": 153
        }
      },
      "source": [
        "import keras\n",
        "from sklearn.utils import shuffle\n",
        "from sklearn.model_selection import train_test_split\n",
        "from keras.models import Sequential, Model\n",
        "from keras.layers import Dense, Dropout, Activation, Flatten\n",
        "from keras.layers import Conv2D, MaxPooling2D\n",
        "!pip install scikit-learn\n",
        "from sklearn.metrics import accuracy_score"
      ],
      "execution_count": 0,
      "outputs": [
        {
          "output_type": "stream",
          "text": [
            "Using TensorFlow backend.\n"
          ],
          "name": "stderr"
        },
        {
          "output_type": "display_data",
          "data": {
            "text/html": [
              "<p style=\"color: red;\">\n",
              "The default version of TensorFlow in Colab will soon switch to TensorFlow 2.x.<br>\n",
              "We recommend you <a href=\"https://www.tensorflow.org/guide/migrate\" target=\"_blank\">upgrade</a> now \n",
              "or ensure your notebook will continue to use TensorFlow 1.x via the <code>%tensorflow_version 1.x</code> magic:\n",
              "<a href=\"https://colab.research.google.com/notebooks/tensorflow_version.ipynb\" target=\"_blank\">more info</a>.</p>\n"
            ],
            "text/plain": [
              "<IPython.core.display.HTML object>"
            ]
          },
          "metadata": {
            "tags": []
          }
        },
        {
          "output_type": "stream",
          "text": [
            "Requirement already satisfied: scikit-learn in /usr/local/lib/python3.6/dist-packages (0.21.3)\n",
            "Requirement already satisfied: joblib>=0.11 in /usr/local/lib/python3.6/dist-packages (from scikit-learn) (0.14.0)\n",
            "Requirement already satisfied: numpy>=1.11.0 in /usr/local/lib/python3.6/dist-packages (from scikit-learn) (1.17.3)\n",
            "Requirement already satisfied: scipy>=0.17.0 in /usr/local/lib/python3.6/dist-packages (from scikit-learn) (1.3.1)\n"
          ],
          "name": "stdout"
        }
      ]
    },
    {
      "cell_type": "code",
      "metadata": {
        "id": "EpyRtdHE7TU1",
        "colab_type": "code",
        "outputId": "0c63b934-80be-422d-c204-19fbca14b67d",
        "colab": {
          "base_uri": "https://localhost:8080/",
          "height": 52
        }
      },
      "source": [
        "import urllib.request\n",
        "\n",
        "print('Beginning file download...')\n",
        "\n",
        "url = 'https://s3-us-west-1.amazonaws.com/udacity-selfdrivingcar/traffic-signs-data.zip'\n",
        "\n",
        "urllib.request.urlretrieve(url, './traffic-signs-data.zip')"
      ],
      "execution_count": 0,
      "outputs": [
        {
          "output_type": "stream",
          "text": [
            "Beginning file download...\n"
          ],
          "name": "stdout"
        },
        {
          "output_type": "execute_result",
          "data": {
            "text/plain": [
              "('./traffic-signs-data.zip', <http.client.HTTPMessage at 0x7f04426d7240>)"
            ]
          },
          "metadata": {
            "tags": []
          },
          "execution_count": 2
        }
      ]
    },
    {
      "cell_type": "code",
      "metadata": {
        "id": "f6LWZJow9VQN",
        "colab_type": "code",
        "outputId": "32b26180-a52e-49f8-c710-ca7dcd11027b",
        "colab": {
          "base_uri": "https://localhost:8080/",
          "height": 159
        }
      },
      "source": [
        "import zipfile\n",
        "import os\n",
        "\n",
        "\n",
        "print('Beginning file unzip')\n",
        "\n",
        "zip_ref = zipfile.ZipFile('./traffic-signs-data.zip', 'r')\n",
        "zip_ref.extractall('./')\n",
        "zip_ref.close()\n",
        "\n",
        "print('Done')\n",
        "os.listdir(\"./\")"
      ],
      "execution_count": 0,
      "outputs": [
        {
          "output_type": "stream",
          "text": [
            "Beginning file unzip\n",
            "Done\n"
          ],
          "name": "stdout"
        },
        {
          "output_type": "execute_result",
          "data": {
            "text/plain": [
              "['.config',\n",
              " 'traffic-signs-data.zip',\n",
              " 'valid.p',\n",
              " 'train.p',\n",
              " 'test.p',\n",
              " 'sample_data']"
            ]
          },
          "metadata": {
            "tags": []
          },
          "execution_count": 3
        }
      ]
    },
    {
      "cell_type": "code",
      "metadata": {
        "id": "wLOAdjPm9gju",
        "colab_type": "code",
        "colab": {}
      },
      "source": [
        "# Load pickled data\n",
        "import pickle\n",
        "\n",
        "# TODO: Fill this in based on where you saved the training and testing data\n",
        "\n",
        "training_file = './train.p'\n",
        "validation_file= './valid.p'\n",
        "testing_file = './test.p'\n",
        "\n",
        "with open(training_file, mode='rb') as f:\n",
        "    train = pickle.load(f)\n",
        "with open(validation_file, mode='rb') as f:\n",
        "    valid = pickle.load(f)\n",
        "with open(testing_file, mode='rb') as f:\n",
        "    test = pickle.load(f)\n",
        "    \n",
        "X_train, y_train = train['features'], train['labels']\n",
        "X_valid, y_valid = valid['features'], valid['labels']\n",
        "X_test, y_test = test['features'], test['labels']"
      ],
      "execution_count": 0,
      "outputs": []
    },
    {
      "cell_type": "code",
      "metadata": {
        "id": "LNM_4sfBE4_f",
        "colab_type": "code",
        "outputId": "66e446fd-9e41-4d2f-9e58-f1a25dad35ae",
        "colab": {
          "base_uri": "https://localhost:8080/",
          "height": 35
        }
      },
      "source": [
        "print(y_train)"
      ],
      "execution_count": 0,
      "outputs": [
        {
          "output_type": "stream",
          "text": [
            "[41 41 41 ... 25 25 25]\n"
          ],
          "name": "stdout"
        }
      ]
    },
    {
      "cell_type": "code",
      "metadata": {
        "id": "xHK5_yYG9mBE",
        "colab_type": "code",
        "outputId": "62f8d9c3-2244-4778-8978-7d35a4f5d2c0",
        "colab": {
          "base_uri": "https://localhost:8080/",
          "height": 106
        }
      },
      "source": [
        "import numpy as np\n",
        "import pandas as pd\n",
        "\n",
        "### Replace each question mark with the appropriate value. \n",
        "### Use python, pandas or numpy methods rather than hard coding the results\n",
        "\n",
        "# TODO: Number of training examples\n",
        "n_train = X_train.shape[0]\n",
        "\n",
        "# TODO: Number of validation examples\n",
        "n_validation = X_valid.shape[0]\n",
        "\n",
        "# TODO: Number of testing examples.\n",
        "n_test = X_test.shape[0]\n",
        "\n",
        "# TODO: What's the shape of an traffic sign image?\n",
        "image_shape = X_train.shape[1:]\n",
        "\n",
        "# TODO: How many unique classes/labels there are in the dataset.\n",
        "n_classes = len(np.unique(y_train))\n",
        "\n",
        "print(\"Number of training examples =\", n_train)\n",
        "print(\"Number of testing examples =\", n_test)\n",
        "print(\"Number of validation examples =\", n_validation)\n",
        "print(\"Image data shape =\", image_shape)\n",
        "print(\"Number of classes =\", n_classes)"
      ],
      "execution_count": 0,
      "outputs": [
        {
          "output_type": "stream",
          "text": [
            "Number of training examples = 34799\n",
            "Number of testing examples = 12630\n",
            "Number of validation examples = 4410\n",
            "Image data shape = (32, 32, 3)\n",
            "Number of classes = 43\n"
          ],
          "name": "stdout"
        }
      ]
    },
    {
      "cell_type": "code",
      "metadata": {
        "id": "b6ZGPm1SRsj0",
        "colab_type": "code",
        "colab": {}
      },
      "source": [
        "def show_images(images, cols = 1, titles = None):\n",
        "    \"\"\"Display a list of images in a single figure with matplotlib.\n",
        "    \n",
        "    Parameters\n",
        "    ---------\n",
        "    images: List of np.arrays compatible with plt.imshow.\n",
        "    \n",
        "    cols (Default = 1): Number of columns in figure (number of rows is \n",
        "                        set to np.ceil(n_images/float(cols))).\n",
        "    \n",
        "    titles: List of titles corresponding to each image. Must have\n",
        "            the same length as titles.\n",
        "    \"\"\"\n",
        "    assert((titles is None)or (len(images) == len(titles)))\n",
        "    \n",
        "    n_images = len(images)\n",
        "    \n",
        "    if titles is None: titles = ['Image (%d)' % i for i in range(1,n_images + 1)]\n",
        "    \n",
        "    fig = plt.figure(figsize=(2, 2))\n",
        "    \n",
        "    for n, (image, title) in enumerate(zip(images, titles)):\n",
        "        a = fig.add_subplot(cols, np.ceil(n_images/float(cols)), n + 1)\n",
        "        a.grid(False)\n",
        "        a.axis('off')\n",
        "        if image.ndim == 2:\n",
        "            plt.gray()\n",
        "        plt.imshow(image, cmap='gray')\n",
        "        a.set_title(title)\n",
        "    \n",
        "    fig.set_size_inches(np.array(fig.get_size_inches()) * n_images)\n",
        "    plt.show()\n",
        "    \n",
        "def select_random_images_by_classes(features, labels, n_features):\n",
        "  \n",
        "  indexes = []\n",
        "  _classes = np.unique(labels);\n",
        "  \n",
        "  while len(indexes) < len(_classes):\n",
        "  \n",
        "    index = random.randint(0, n_features-1)\n",
        "    _class = labels[index]\n",
        "\n",
        "    for i in range(0, len(_classes)):\n",
        "\n",
        "      if _class == _classes[i]:\n",
        "        _classes[i] = -1\n",
        "        indexes.append(index)\n",
        "        break\n",
        "\n",
        "  images = []\n",
        "  titles = []\n",
        "\n",
        "  for i in range(0, len(indexes)):\n",
        "    images.append(features[indexes[i]])\n",
        "    titles.append(\"class \" + str(labels[indexes[i]]))\n",
        "\n",
        "  show_images(images, titles = titles)\n",
        "### Data exploration visualization code goes here.\n",
        "### Feel free to use as many code cells as needed.\n",
        "import matplotlib.pyplot as plt\n",
        "import random\n",
        "# Visualizations will be shown in the notebook.\n",
        "%matplotlib inline\n",
        "\n",
        "#select_random_images_by_classes(X_train, y_train, n_train)"
      ],
      "execution_count": 0,
      "outputs": []
    },
    {
      "cell_type": "code",
      "metadata": {
        "id": "KEuSb1kQR1QS",
        "colab_type": "code",
        "outputId": "30e2b063-ece9-4570-e9a6-be4ba36ecc71",
        "colab": {
          "base_uri": "https://localhost:8080/",
          "height": 447
        }
      },
      "source": [
        "def plot_distribution_chart(x, y, xlabel, ylabel, width, color):\n",
        "  \n",
        "  plt.figure(figsize=(15,7))\n",
        "  plt.ylabel(ylabel, fontsize=18)\n",
        "  plt.xlabel(xlabel, fontsize=16)\n",
        "  plt.bar(x, y, width, color=color)\n",
        "  plt.show()\n",
        "_classes, counts = np.unique(y_train, return_counts=True)\n",
        "\n",
        "plot_distribution_chart(_classes, counts, 'Classes', '# Training Examples', 0.7, 'blue')"
      ],
      "execution_count": 0,
      "outputs": [
        {
          "output_type": "display_data",
          "data": {
            "image/png": "[encoded data removed]",
            "text/plain": [
              "<Figure size 1080x504 with 1 Axes>"
            ]
          },
          "metadata": {
            "tags": []
          }
        }
      ]
    },
    {
      "cell_type": "code",
      "metadata": {
        "id": "qCWSw9wnSAo0",
        "colab_type": "code",
        "outputId": "dac2ec0b-c39e-4bcb-c3d5-0009ae08cc56",
        "colab": {
          "base_uri": "https://localhost:8080/",
          "height": 35
        }
      },
      "source": [
        "print('Transforming Images')\n",
        "import cv2\n",
        "\n",
        "def augment_brightness_camera_images(image):\n",
        "    image1 = cv2.cvtColor(image,cv2.COLOR_RGB2HSV)\n",
        "    random_bright = .25+np.random.uniform()\n",
        "    #print(random_bright)\n",
        "    image1[:,:,2] = image1[:,:,2]*random_bright\n",
        "    image1 = cv2.cvtColor(image1,cv2.COLOR_HSV2RGB)\n",
        "    return image1\n",
        "\n",
        "def transform_image(img,ang_range,shear_range,trans_range,brightness=0):\n",
        "    '''\n",
        "    This function transforms images to generate new images.\n",
        "    The function takes in following arguments,\n",
        "    1- Image\n",
        "    2- ang_range: Range of angles for rotation\n",
        "    3- shear_range: Range of values to apply affine transform to\n",
        "    4- trans_range: Range of values to apply translations over.\n",
        "\n",
        "    A Random uniform distribution is used to generate different parameters for transformation\n",
        "\n",
        "    '''\n",
        "    # Rotation\n",
        "\n",
        "    ang_rot = np.random.uniform(ang_range)-ang_range/2\n",
        "    rows,cols,ch = img.shape    \n",
        "    Rot_M = cv2.getRotationMatrix2D((cols/2,rows/2),ang_rot,1)\n",
        "\n",
        "    # Translation\n",
        "    tr_x = trans_range*np.random.uniform()-trans_range/2\n",
        "    tr_y = trans_range*np.random.uniform()-trans_range/2\n",
        "    Trans_M = np.float32([[1,0,tr_x],[0,1,tr_y]])\n",
        "\n",
        "    # Shear\n",
        "    pts1 = np.float32([[5,5],[20,5],[5,20]])\n",
        "\n",
        "    pt1 = 5+shear_range*np.random.uniform()-shear_range/2\n",
        "    pt2 = 20+shear_range*np.random.uniform()-shear_range/2\n",
        "\n",
        "    # Brightness\n",
        "\n",
        "    pts2 = np.float32([[pt1,5],[pt2,pt1],[5,pt2]])\n",
        "\n",
        "    shear_M = cv2.getAffineTransform(pts1,pts2)\n",
        "\n",
        "    img = cv2.warpAffine(img,Rot_M,(cols,rows))\n",
        "    img = cv2.warpAffine(img,Trans_M,(cols,rows))\n",
        "    img = cv2.warpAffine(img,shear_M,(cols,rows))\n",
        "\n",
        "    if brightness == 1:\n",
        "      img = augment_brightness_camera_images(img)\n",
        "\n",
        "    return img"
      ],
      "execution_count": 0,
      "outputs": [
        {
          "output_type": "stream",
          "text": [
            "Transforming Images\n"
          ],
          "name": "stdout"
        }
      ]
    },
    {
      "cell_type": "code",
      "metadata": {
        "id": "EJFv0CY4SGaU",
        "colab_type": "code",
        "outputId": "62515b8f-f4d8-4d70-96fc-9a6286dc43c5",
        "colab": {
          "base_uri": "https://localhost:8080/",
          "height": 35
        }
      },
      "source": [
        "print('Adding Images')\n",
        "images = []\n",
        "\n",
        "for i in range(0, 100):\n",
        "  images.append(transform_image(X_train[555],10,5,5,brightness=1))\n",
        "\n",
        "#show_images(images)"
      ],
      "execution_count": 0,
      "outputs": [
        {
          "output_type": "stream",
          "text": [
            "Adding Images\n"
          ],
          "name": "stdout"
        }
      ]
    },
    {
      "cell_type": "code",
      "metadata": {
        "id": "eOfRPC9TSUFX",
        "colab_type": "code",
        "outputId": "98ab4856-bb14-4990-fb9b-d2f50324de6b",
        "colab": {
          "base_uri": "https://localhost:8080/",
          "height": 447
        }
      },
      "source": [
        "for _class, count in zip(_classes, counts):\n",
        "  new_images = []\n",
        "  new_classes = []\n",
        "  \n",
        "  if count < 1000:\n",
        "    y_train_length = y_train.shape[0]\n",
        "    index = 0\n",
        "    \n",
        "    for i in range(0, 1000-count):\n",
        "      while y_train[index] != _class:\n",
        "        index = random.randint(0, y_train_length-1)\n",
        "      new_images.append(transform_image(X_train[index],10,5,5,brightness=1))\n",
        "      new_classes.append(_class)\n",
        "      \n",
        "    X_train = np.concatenate((X_train, np.array(new_images)))\n",
        "    y_train = np.concatenate((y_train, np.array(new_classes)))\n",
        "    \n",
        "_classes, counts = np.unique(y_train, return_counts=True)\n",
        "\n",
        "plot_distribution_chart(_classes, counts, 'Classes', '# Training Examples', 0.7, 'blue')"
      ],
      "execution_count": 0,
      "outputs": [
        {
          "output_type": "display_data",
          "data": {
            "image/png": "[encoded data removed]",
            "text/plain": [
              "<Figure size 1080x504 with 1 Axes>"
            ]
          },
          "metadata": {
            "tags": []
          }
        }
      ]
    },
    {
      "cell_type": "code",
      "metadata": {
        "id": "6M-y5E9QSZNj",
        "colab_type": "code",
        "outputId": "7d7cafe4-30fd-4e79-d686-5ecfdf8036f1",
        "colab": {
          "base_uri": "https://localhost:8080/",
          "height": 35
        }
      },
      "source": [
        "#check dimentions\n",
        "\n",
        "n_train = X_train.shape[0]\n",
        "\n",
        "print(\"Number of training examples =\", n_train)"
      ],
      "execution_count": 0,
      "outputs": [
        {
          "output_type": "stream",
          "text": [
            "Number of training examples = 51690\n"
          ],
          "name": "stdout"
        }
      ]
    },
    {
      "cell_type": "code",
      "metadata": {
        "id": "TSN6zubESbGy",
        "colab_type": "code",
        "colab": {}
      },
      "source": [
        "X_train_gray = np.sum(X_train/3, axis=3, keepdims=True)\n",
        "\n",
        "X_test_gray = np.sum(X_test/3, axis=3, keepdims=True)\n",
        "\n",
        "X_valid_gray = np.sum(X_valid/3, axis=3, keepdims=True)\n",
        "\n",
        "# check grayscale images\n",
        "#select_random_images_by_classes(X_train_gray.squeeze(), y_train, n_train)"
      ],
      "execution_count": 0,
      "outputs": []
    },
    {
      "cell_type": "code",
      "metadata": {
        "id": "TViKMZ0TSd0s",
        "colab_type": "code",
        "outputId": "f04265e7-23ce-462b-a915-b37059e6aa20",
        "colab": {
          "base_uri": "https://localhost:8080/",
          "height": 35
        }
      },
      "source": [
        "print('Gray and Normalization')\n",
        "X_train_gray -= np.mean(X_train_gray)\n",
        "\n",
        "X_test_gray -= np.mean(X_test_gray)\n",
        "\n",
        "X_train = X_train_gray\n",
        "\n",
        "X_test = X_test_gray"
      ],
      "execution_count": 0,
      "outputs": [
        {
          "output_type": "stream",
          "text": [
            "Gray and Normalization\n"
          ],
          "name": "stdout"
        }
      ]
    },
    {
      "cell_type": "code",
      "metadata": {
        "id": "712W9DDtShD2",
        "colab_type": "code",
        "outputId": "3b8c3b57-730c-4644-9630-c6a68f97ee9a",
        "colab": {
          "base_uri": "https://localhost:8080/",
          "height": 35
        }
      },
      "source": [
        "\n",
        "print('Splitting Data')\n",
        "X_train, X_validation, y_train, y_validation = train_test_split(X_train, y_train, test_size=0.20, random_state=43)\n",
        "X_train, y_train = shuffle(X_train, y_train)"
      ],
      "execution_count": 0,
      "outputs": [
        {
          "output_type": "stream",
          "text": [
            "Splitting Data\n"
          ],
          "name": "stdout"
        }
      ]
    },
    {
      "cell_type": "code",
      "metadata": {
        "id": "F0oAXx6XbbWY",
        "colab_type": "code",
        "outputId": "b690c459-8ec0-4bcf-eb97-1f0a8c54523c",
        "colab": {
          "base_uri": "https://localhost:8080/",
          "height": 35
        }
      },
      "source": [
        "print(\"Testing Data :\",X_test.shape[0])\n",
        "X_test, y_test = shuffle(X_test, y_test)\n"
      ],
      "execution_count": 0,
      "outputs": [
        {
          "output_type": "stream",
          "text": [
            "Testing Data : 12630\n"
          ],
          "name": "stdout"
        }
      ]
    },
    {
      "cell_type": "code",
      "metadata": {
        "id": "ydh2n0jFc9UH",
        "colab_type": "code",
        "outputId": "0142732a-1168-43d1-d938-ebaf9fbd8ab8",
        "colab": {
          "base_uri": "https://localhost:8080/",
          "height": 35
        }
      },
      "source": [
        "print(X_test.shape)"
      ],
      "execution_count": 0,
      "outputs": [
        {
          "output_type": "stream",
          "text": [
            "(12630, 32, 32, 1)\n"
          ],
          "name": "stdout"
        }
      ]
    },
    {
      "cell_type": "code",
      "metadata": {
        "id": "XFGO5giLyHLg",
        "colab_type": "code",
        "outputId": "f74a76c4-75ec-4c1f-9af6-5c33c41f82a9",
        "colab": {
          "base_uri": "https://localhost:8080/",
          "height": 126
        }
      },
      "source": [
        "from google.colab import drive\n",
        "drive.mount('/content/drive')"
      ],
      "execution_count": 0,
      "outputs": [
        {
          "output_type": "stream",
          "text": [
            "Go to this URL in a browser: https://accounts.google.com/o/oauth2/auth?client_id=947318989803-6bn6qk8qdgf4n4g3pfee6491hc0brc4i.apps.googleusercontent.com&redirect_uri=urn%3Aietf%3Awg%3Aoauth%3A2.0%3Aoob&scope=email%20https%3A%2F%2Fwww.googleapis.com%2Fauth%2Fdocs.test%20https%3A%2F%2Fwww.googleapis.com%2Fauth%2Fdrive%20https%3A%2F%2Fwww.googleapis.com%2Fauth%2Fdrive.photos.readonly%20https%3A%2F%2Fwww.googleapis.com%2Fauth%2Fpeopleapi.readonly&response_type=code\n",
            "\n",
            "Enter your authorization code:\n",
            "··········\n",
            "Mounted at /content/drive\n"
          ],
          "name": "stdout"
        }
      ]
    },
    {
      "cell_type": "code",
      "metadata": {
        "id": "5PjyLPI_532f",
        "colab_type": "code",
        "colab": {}
      },
      "source": [
        "testcases = 10000\n",
        "#print(a)\n",
        "f= open(\"testcase_store_1.dat\",\"w+\")\n",
        "for image in range(0,testcases):\n",
        "  temp = X_test[image]\n",
        "  temp2 = temp.flatten()\n",
        "  a = list(temp2)\n",
        "  #print(a.shape)\n",
        "  for item in range(0,1024):\n",
        "    if(item == 1023):\n",
        "      f.write(\"%s\" % temp2[item])\n",
        "    else:\n",
        "      f.write(\"%s,\" % temp2[item])\n",
        "  f.write(\"\\n\")\n",
        "f.close()\n",
        "#    for item in a:\n",
        "     #   f.write(\"%s,\" % item)"
      ],
      "execution_count": 0,
      "outputs": []
    },
    {
      "cell_type": "code",
      "metadata": {
        "id": "nGYIR_XEHkJk",
        "colab_type": "code",
        "outputId": "109bd098-6f83-4830-94d8-6ce3115240ad",
        "colab": {
          "base_uri": "https://localhost:8080/",
          "height": 35
        }
      },
      "source": [
        "!rm -rf train_data\n",
        "#select_random_images_by_classes(X_train_gray.squeeze(), y_train, n_train)\n",
        "#plt.imshow(X_train[100])\n",
        "#from keras.preprocessing.image import save_img\n",
        "#!mkdir train_data\n",
        "f= open(\"test_data_labels_1.txt\",\"w+\")\n",
        "print(X_train.shape)\n",
        "for i in range(testcases):\n",
        "  #temp = X_train[i]\n",
        "  #print(temp.shape)\n",
        "  #plt.imshow(temp.squeeze(), cmap='gray')\n",
        "  #plt.plot(X_train[100])\n",
        "  #pic_name = './train_data/train_' + str(i) + '.bmp'\n",
        "  #print(pic_name)\n",
        "  f.write(\"%d\\n\" % (y_test[i]))\n",
        "  #save_img(pic_name, temp)\n",
        "f.close()\n"
      ],
      "execution_count": 0,
      "outputs": [
        {
          "output_type": "stream",
          "text": [
            "(41352, 32, 32, 1)\n"
          ],
          "name": "stdout"
        }
      ]
    },
    {
      "cell_type": "code",
      "metadata": {
        "id": "cNqMbTJDyS2K",
        "colab_type": "code",
        "outputId": "a49d0c4d-2042-42a1-d828-a6749ce137ca",
        "colab": {
          "base_uri": "https://localhost:8080/",
          "height": 52
        }
      },
      "source": [
        "!mkdir ./drive/temp\n",
        "!cp testcase_store_1.dat ./drive/MyDrive/ColabNotebooks/"
      ],
      "execution_count": 0,
      "outputs": [
        {
          "output_type": "stream",
          "text": [
            "mkdir: cannot create directory ‘./drive/temp’: Operation not supported\n",
            "cp: cannot create regular file './drive/MyDrive/ColabNotebooks/': No such file or directory\n"
          ],
          "name": "stdout"
        }
      ]
    },
    {
      "cell_type": "code",
      "metadata": {
        "id": "ygjEMViKWPVy",
        "colab_type": "code",
        "outputId": "6349b922-294a-4526-b5ba-9b955b5067ee",
        "colab": {
          "base_uri": "https://localhost:8080/",
          "height": 88
        }
      },
      "source": [
        "print(X_train.shape)\n",
        "print(X_test.shape)\n",
        "print(y_train.shape)\n",
        "print(y_test.shape)"
      ],
      "execution_count": 0,
      "outputs": [
        {
          "output_type": "stream",
          "text": [
            "(51690, 32, 32, 1)\n",
            "(12630, 32, 32, 1)\n",
            "(51690,)\n",
            "(12630,)\n"
          ],
          "name": "stdout"
        }
      ]
    },
    {
      "cell_type": "code",
      "metadata": {
        "id": "l08NjcI0KSpj",
        "colab_type": "code",
        "outputId": "3bcf6d38-db52-4548-e941-31081107a733",
        "colab": {
          "base_uri": "https://localhost:8080/",
          "height": 606
        }
      },
      "source": [
        "print('Creating Model')\n",
        "model = Sequential()\n",
        "\n",
        "model.add(Conv2D(filters=6, kernel_size=(5, 5), activation='linear',padding='same', input_shape=(32,32,1)))\n",
        "model.add(MaxPooling2D(pool_size=(2, 2)))\n",
        "\n",
        "model.add(Conv2D(filters=16, kernel_size=(5, 5),padding='same', activation='linear'))\n",
        "model.add(MaxPooling2D(pool_size=(2, 2)))\n",
        "model.add(Permute((2,3,1),input_shape=(1,8,8,16)))\n",
        "\n",
        "model.add(Flatten(data_format='channels_first'))\n",
        "\n",
        "model.add(Dense(120, activation='relu'))\n",
        "\n",
        "model.add(Dense(84, activation='relu'))\n",
        "\n",
        "model.add(Dense(43, activation = 'softmax'))\n",
        "\n",
        "model.compile(loss='categorical_crossentropy', optimizer='adam',\n",
        "                metrics=['accuracy'])\n",
        "#model.compile(optimizer='adam')\n",
        "\n",
        "\n",
        "print(model.summary())"
      ],
      "execution_count": 0,
      "outputs": [
        {
          "output_type": "stream",
          "text": [
            "Creating Model\n",
            "WARNING:tensorflow:From /usr/local/lib/python3.6/dist-packages/keras/optimizers.py:793: The name tf.train.Optimizer is deprecated. Please use tf.compat.v1.train.Optimizer instead.\n",
            "\n",
            "WARNING:tensorflow:From /usr/local/lib/python3.6/dist-packages/keras/backend/tensorflow_backend.py:3576: The name tf.log is deprecated. Please use tf.math.log instead.\n",
            "\n",
            "Model: \"sequential_2\"\n",
            "_________________________________________________________________\n",
            "Layer (type)                 Output Shape              Param #   \n",
            "=================================================================\n",
            "conv2d_3 (Conv2D)            (None, 32, 32, 6)         156       \n",
            "_________________________________________________________________\n",
            "max_pooling2d_3 (MaxPooling2 (None, 16, 16, 6)         0         \n",
            "_________________________________________________________________\n",
            "conv2d_4 (Conv2D)            (None, 16, 16, 16)        2416      \n",
            "_________________________________________________________________\n",
            "max_pooling2d_4 (MaxPooling2 (None, 8, 8, 16)          0         \n",
            "_________________________________________________________________\n",
            "permute_1 (Permute)          (None, 8, 16, 8)          0         \n",
            "_________________________________________________________________\n",
            "flatten_1 (Flatten)          (None, 1024)              0         \n",
            "_________________________________________________________________\n",
            "dense_1 (Dense)              (None, 120)               123000    \n",
            "_________________________________________________________________\n",
            "dense_2 (Dense)              (None, 84)                10164     \n",
            "_________________________________________________________________\n",
            "dense_3 (Dense)              (None, 43)                3655      \n",
            "=================================================================\n",
            "Total params: 139,391\n",
            "Trainable params: 139,391\n",
            "Non-trainable params: 0\n",
            "_________________________________________________________________\n",
            "None\n"
          ],
          "name": "stdout"
        }
      ]
    },
    {
      "cell_type": "markdown",
      "metadata": {
        "id": "91burhpd1wPb",
        "colab_type": "text"
      },
      "source": [
        "# Truncated model"
      ]
    },
    {
      "cell_type": "code",
      "metadata": {
        "id": "BcoN-eEM0Zya",
        "colab_type": "code",
        "colab": {}
      },
      "source": [
        "from keras.layers import Input, Conv2D, MaxPooling2D, Reshape, Permute"
      ],
      "execution_count": 0,
      "outputs": []
    },
    {
      "cell_type": "code",
      "metadata": {
        "id": "DBq9_Qjk0WBa",
        "colab_type": "code",
        "colab": {}
      },
      "source": [
        "layer1 = Input(shape=(32, 32, 1))\n",
        "layer2 = Conv2D(filters=6, kernel_size=(5, 5), activation='linear',padding='same')(layer1)\n",
        "layer3 = MaxPooling2D(pool_size=(2, 2))(layer2)\n",
        "layer4 = Conv2D(filters=16, kernel_size=(5, 5),padding='same', activation='linear')(layer3)\n",
        "layer5 = MaxPooling2D(pool_size=(2, 2))(layer4)\n",
        "layer6 = Permute((2,3,1),input_shape=(1,8,8,16))(layer5)\n",
        "layer7 = Flatten(data_format='channels_first')(layer6)\n",
        "layer8 = Dense(120, activation='relu')(layer7)\n",
        "layer9 = Dense(84, activation='relu')(layer8)\n",
        "layer10 = Dense(43, activation='linear')(layer9)\n",
        "\n",
        "\n",
        "modelTrun = Model(inputs=layer1, outputs=layer10)\n"
      ],
      "execution_count": 0,
      "outputs": []
    },
    {
      "cell_type": "code",
      "metadata": {
        "id": "opfC9IEJ0_gX",
        "colab_type": "code",
        "outputId": "c5bbf684-c217-47c2-e348-4f311963648b",
        "colab": {
          "base_uri": "https://localhost:8080/",
          "height": 177
        }
      },
      "source": [
        "model.layers"
      ],
      "execution_count": 0,
      "outputs": [
        {
          "output_type": "execute_result",
          "data": {
            "text/plain": [
              "[<keras.layers.convolutional.Conv2D at 0x7f0435f40320>,\n",
              " <keras.layers.pooling.MaxPooling2D at 0x7f0439824a90>,\n",
              " <keras.layers.convolutional.Conv2D at 0x7f0434ad1940>,\n",
              " <keras.layers.pooling.MaxPooling2D at 0x7f043981f860>,\n",
              " <keras.layers.core.Permute at 0x7f0439824828>,\n",
              " <keras.layers.core.Flatten at 0x7f043981f898>,\n",
              " <keras.layers.core.Dense at 0x7f0434ad2710>,\n",
              " <keras.layers.core.Dense at 0x7f04398271d0>,\n",
              " <keras.layers.core.Dense at 0x7f043982f198>]"
            ]
          },
          "metadata": {
            "tags": []
          },
          "execution_count": 20
        }
      ]
    },
    {
      "cell_type": "code",
      "metadata": {
        "id": "n9k_gebh5bTU",
        "colab_type": "code",
        "outputId": "12edbed7-6091-4453-90dd-f7adf10e33eb",
        "colab": {
          "base_uri": "https://localhost:8080/",
          "height": 195
        }
      },
      "source": [
        "modelTrun.layers"
      ],
      "execution_count": 0,
      "outputs": [
        {
          "output_type": "execute_result",
          "data": {
            "text/plain": [
              "[<keras.engine.input_layer.InputLayer at 0x7f0434a41cf8>,\n",
              " <keras.layers.convolutional.Conv2D at 0x7f0434a20908>,\n",
              " <keras.layers.pooling.MaxPooling2D at 0x7f04398b8668>,\n",
              " <keras.layers.convolutional.Conv2D at 0x7f0434a41e80>,\n",
              " <keras.layers.pooling.MaxPooling2D at 0x7f0434a46ba8>,\n",
              " <keras.layers.core.Permute at 0x7f0434ad4be0>,\n",
              " <keras.layers.core.Flatten at 0x7f0434ad4c18>,\n",
              " <keras.layers.core.Dense at 0x7f0434a4f908>,\n",
              " <keras.layers.core.Dense at 0x7f0434a547b8>,\n",
              " <keras.layers.core.Dense at 0x7f043387aba8>]"
            ]
          },
          "metadata": {
            "tags": []
          },
          "execution_count": 21
        }
      ]
    },
    {
      "cell_type": "code",
      "metadata": {
        "id": "4iLQWhJJ2KEt",
        "colab_type": "code",
        "outputId": "51bffd49-f50b-494b-94d1-3bed5f710cd7",
        "colab": {
          "base_uri": "https://localhost:8080/",
          "height": 301
        }
      },
      "source": [
        "modelTrun.layers[1].set_weights(model.layers[0].get_weights())\n",
        "print(modelTrun.layers[1].name)\n",
        "modelTrun.layers[3].set_weights(model.layers[2].get_weights())\n",
        "print(model.layers[2].get_weights()[0].shape)\n",
        "modelTrun.layers[7].set_weights(model.layers[6].get_weights())\n",
        "print(model.layers[2].get_weights()[0].shape)\n",
        "print(model.layers[6].get_weights()[0])\n",
        "modelTrun.layers[8].set_weights(model.layers[7].get_weights())\n",
        "modelTrun.layers[9].set_weights(model.layers[8].get_weights())\n",
        "#modelTrun.layers[7].set_weights(model.layers[6].get_weights())"
      ],
      "execution_count": 0,
      "outputs": [
        {
          "output_type": "stream",
          "text": [
            "conv2d_5\n",
            "(5, 5, 6, 16)\n",
            "(5, 5, 6, 16)\n",
            "[[-0.14103477 -0.07945833  0.07903114 ... -0.03538329  0.08553936\n",
            "   0.06251408]\n",
            " [-0.11834379  0.0634866  -0.09428247 ... -0.15669985  0.11385366\n",
            "   0.01598304]\n",
            " [-0.31916317  0.05278066  0.01926571 ... -0.05583644 -0.06153942\n",
            "   0.14986664]\n",
            " ...\n",
            " [ 0.05827881  0.02297347 -0.02531936 ...  0.12118549 -0.16320783\n",
            "  -0.01260053]\n",
            " [ 0.15813996  0.1672386  -0.15332513 ...  0.02608208 -0.06332481\n",
            "  -0.07198568]\n",
            " [ 0.03352179  0.05238286 -0.04615364 ... -0.08448441 -0.16451675\n",
            "  -0.1321463 ]]\n"
          ],
          "name": "stdout"
        }
      ]
    },
    {
      "cell_type": "code",
      "metadata": {
        "id": "A9MbAtkMo2Ex",
        "colab_type": "code",
        "colab": {}
      },
      "source": [
        "print(X_train[0])\n",
        "print(y_train[0])"
      ],
      "execution_count": 0,
      "outputs": []
    },
    {
      "cell_type": "code",
      "metadata": {
        "id": "kBBeB9bB3Ulm",
        "colab_type": "code",
        "colab": {}
      },
      "source": [
        "testImg = []\n",
        "with open(\"data_1.txt\", \"r\") as handle:\n",
        "  pixels = handle.readline().split(\",\")"
      ],
      "execution_count": 0,
      "outputs": []
    },
    {
      "cell_type": "code",
      "metadata": {
        "id": "acdwxib039_F",
        "colab_type": "code",
        "colab": {}
      },
      "source": [
        "pixels[-1] = pixels[-1].replace(\"\\n\", '')"
      ],
      "execution_count": 0,
      "outputs": []
    },
    {
      "cell_type": "code",
      "metadata": {
        "id": "ss8U4HGv4H5V",
        "colab_type": "code",
        "colab": {}
      },
      "source": [
        "for pixel in pixels:\n",
        "  testImg.append(float(pixel))\n",
        "testImg = np.array(testImg)"
      ],
      "execution_count": 0,
      "outputs": []
    },
    {
      "cell_type": "code",
      "metadata": {
        "id": "jhMRqHGT4a-H",
        "colab_type": "code",
        "colab": {}
      },
      "source": [
        "testImg = testImg.reshape(32, 32)"
      ],
      "execution_count": 0,
      "outputs": []
    },
    {
      "cell_type": "code",
      "metadata": {
        "id": "JnkaFOIR4eye",
        "colab_type": "code",
        "outputId": "e599c2d9-f858-4001-8245-1cd726956773",
        "colab": {
          "base_uri": "https://localhost:8080/",
          "height": 284
        }
      },
      "source": [
        "plt.imshow(testImg, cmap='gray')"
      ],
      "execution_count": 0,
      "outputs": [
        {
          "output_type": "execute_result",
          "data": {
            "text/plain": [
              "<matplotlib.image.AxesImage at 0x7f1180223a58>"
            ]
          },
          "metadata": {
            "tags": []
          },
          "execution_count": 31
        },
        {
          "output_type": "display_data",
          "data": {
            "image/png": "[encoded data removed]",
            "text/plain": [
              "<Figure size 432x288 with 1 Axes>"
            ]
          },
          "metadata": {
            "tags": []
          }
        }
      ]
    },
    {
      "cell_type": "code",
      "metadata": {
        "id": "SQQ0TD7OpdnC",
        "colab_type": "code",
        "colab": {}
      },
      "source": [
        "testImg = X_train[0]\n",
        "print(testImg.shape)\n",
        "print(testImg)"
      ],
      "execution_count": 0,
      "outputs": []
    },
    {
      "cell_type": "code",
      "metadata": {
        "id": "Vu2wnIboxGjF",
        "colab_type": "code",
        "outputId": "50668b6a-eab4-4626-ffca-431ee66b68a4",
        "colab": {
          "base_uri": "https://localhost:8080/",
          "height": 35
        }
      },
      "source": [
        "print(X_test.shape)"
      ],
      "execution_count": 0,
      "outputs": [
        {
          "output_type": "stream",
          "text": [
            "(12630, 32, 32, 1)\n"
          ],
          "name": "stdout"
        }
      ]
    },
    {
      "cell_type": "code",
      "metadata": {
        "id": "UmhwdNjUx8to",
        "colab_type": "code",
        "outputId": "6afa9c33-e065-4e17-fbfe-d4454a4a7c34",
        "colab": {
          "base_uri": "https://localhost:8080/",
          "height": 310
        }
      },
      "source": [
        "import evaluate"
      ],
      "execution_count": 0,
      "outputs": [
        {
          "output_type": "error",
          "ename": "ModuleNotFoundError",
          "evalue": "ignored",
          "traceback": [
            "\u001b[0;31m---------------------------------------------------------------------------\u001b[0m",
            "\u001b[0;31mModuleNotFoundError\u001b[0m                       Traceback (most recent call last)",
            "\u001b[0;32m<ipython-input-57-5bbdaa20d86c>\u001b[0m in \u001b[0;36m<module>\u001b[0;34m()\u001b[0m\n\u001b[0;32m----> 1\u001b[0;31m \u001b[0;32mimport\u001b[0m \u001b[0mevaluate\u001b[0m\u001b[0;34m\u001b[0m\u001b[0;34m\u001b[0m\u001b[0m\n\u001b[0m",
            "\u001b[0;31mModuleNotFoundError\u001b[0m: No module named 'evaluate'",
            "",
            "\u001b[0;31m---------------------------------------------------------------------------\u001b[0;32m\nNOTE: If your import is failing due to a missing package, you can\nmanually install dependencies using either !pip or !apt.\n\nTo view examples of installing some common dependencies, click the\n\"Open Examples\" button below.\n\u001b[0;31m---------------------------------------------------------------------------\u001b[0m\n"
          ]
        }
      ]
    },
    {
      "cell_type": "code",
      "metadata": {
        "id": "NI4GXZJkyxTv",
        "colab_type": "code",
        "outputId": "dcec334c-2af2-4069-e25d-9d7fbf9bb7f4",
        "colab": {
          "base_uri": "https://localhost:8080/",
          "height": 35
        }
      },
      "source": [
        "print(y_test.shape)"
      ],
      "execution_count": 0,
      "outputs": [
        {
          "output_type": "stream",
          "text": [
            "(12630,)\n"
          ],
          "name": "stdout"
        }
      ]
    },
    {
      "cell_type": "code",
      "metadata": {
        "id": "sqQTcOiHy75A",
        "colab_type": "code",
        "outputId": "e710a0b6-9b3e-45fa-d3dd-484cfa29f3cd",
        "colab": {
          "base_uri": "https://localhost:8080/",
          "height": 35
        }
      },
      "source": [
        "out.shape"
      ],
      "execution_count": 0,
      "outputs": [
        {
          "output_type": "execute_result",
          "data": {
            "text/plain": [
              "(12630, 43)"
            ]
          },
          "metadata": {
            "tags": []
          },
          "execution_count": 66
        }
      ]
    },
    {
      "cell_type": "code",
      "metadata": {
        "id": "dpQkiXAs4r6M",
        "colab_type": "code",
        "outputId": "58552e54-594e-45a0-d470-afacf74fd5ec",
        "colab": {
          "base_uri": "https://localhost:8080/",
          "height": 35
        }
      },
      "source": [
        "out = model.predict(X_test.reshape(12630, 32, 32, 1))\n",
        "out_class = out.argmax(axis=1)\n",
        "accuracy_score(out_class, y_test) * 100.0"
      ],
      "execution_count": 0,
      "outputs": [
        {
          "output_type": "execute_result",
          "data": {
            "text/plain": [
              "86.89627870150436"
            ]
          },
          "metadata": {
            "tags": []
          },
          "execution_count": 25
        }
      ]
    },
    {
      "cell_type": "code",
      "metadata": {
        "id": "igs8juVw5GhQ",
        "colab_type": "code",
        "outputId": "d9e654a9-ae01-4fe5-ee44-d3e98bb67344",
        "colab": {
          "base_uri": "https://localhost:8080/",
          "height": 35
        }
      },
      "source": [
        "out.shape"
      ],
      "execution_count": 0,
      "outputs": [
        {
          "output_type": "execute_result",
          "data": {
            "text/plain": [
              "(12630, 43)"
            ]
          },
          "metadata": {
            "tags": []
          },
          "execution_count": 52
        }
      ]
    },
    {
      "cell_type": "code",
      "metadata": {
        "id": "_z7Ge5ZeqXhI",
        "colab_type": "code",
        "outputId": "56990e8c-8776-439f-d865-6137c52b9664",
        "colab": {
          "base_uri": "https://localhost:8080/",
          "height": 177
        }
      },
      "source": [
        "print(out.size)\n",
        "#print(out[0,:,:,0])\n",
        "print(out[0,:])"
      ],
      "execution_count": 0,
      "outputs": [
        {
          "output_type": "stream",
          "text": [
            "543090\n",
            "[ 95.60576    -4.622025   49.610218  -67.99673    -8.345063   85.098335\n",
            " -65.03355   -28.798613  -29.39731   -54.199604    1.3541579   2.969069\n",
            " -41.606194  -61.280655  -43.33508    22.187256  -21.63796   -10.643746\n",
            "  20.37904    49.753025  -23.840181   38.64134   -48.66615    39.4068\n",
            " -15.624521  -13.574421    2.069559   14.507289   -8.654665  -12.195918\n",
            "   8.3329315 -65.99908    23.401691   16.013332  -46.708538   -8.389781\n",
            " -45.883812   40.020336   19.476461   10.551849   28.521679   35.05598\n",
            "  11.417079 ]\n"
          ],
          "name": "stdout"
        }
      ]
    },
    {
      "cell_type": "markdown",
      "metadata": {
        "id": "jcJGZmz4qVwF",
        "colab_type": "text"
      },
      "source": [
        "OLD\n"
      ]
    },
    {
      "cell_type": "code",
      "metadata": {
        "id": "0VPkVPnP494g",
        "colab_type": "code",
        "outputId": "f7188411-c8c8-42fc-8f1b-ae0ebc98d183",
        "colab": {
          "base_uri": "https://localhost:8080/",
          "height": 337
        }
      },
      "source": [
        "print(out.size)\n",
        "print(out.shape)\n",
        "print(out[0,:,:,0])\n",
        "#print(out[0,:])"
      ],
      "execution_count": 0,
      "outputs": [
        {
          "output_type": "stream",
          "text": [
            "1024\n",
            "(1, 8, 8, 16)\n",
            "[[ 1.9224397   4.1990595   1.8997525   4.2643905  -1.341603    0.7132209\n",
            "   1.9247137  -0.46587673]\n",
            " [-1.3509785  -1.5505345   2.291257    3.903523    2.5900006  -1.3122301\n",
            "  -0.04468393 -0.4912632 ]\n",
            " [ 1.4164307  -0.30430073 -0.18047419  2.5431838   1.646069   -2.7801437\n",
            "  -0.8458667   0.36696297]\n",
            " [ 0.1630539   0.5661162   0.1270679   1.7684673  -2.9293075  -1.0212553\n",
            "  -0.56190085 -0.2979328 ]\n",
            " [-0.7139307  -0.44681835 -2.251574   -0.9521045  -1.1147404   1.6351727\n",
            "   0.0642783  -1.2616436 ]\n",
            " [-0.69095117  3.0771933   4.553533   -1.326423    1.4464163  -1.3532064\n",
            "  -1.9677309  -0.11469842]\n",
            " [ 4.0096283   3.8382182  -0.12225203  3.6305566   4.573894    2.9741945\n",
            "   3.7714367   0.32088977]\n",
            " [ 4.2992163  -2.0331347  -2.0156636  -0.18745214 -1.7043794  -2.1267974\n",
            "   1.023252   -0.6975614 ]]\n"
          ],
          "name": "stdout"
        }
      ]
    },
    {
      "cell_type": "code",
      "metadata": {
        "colab_type": "code",
        "id": "3PFE9vDuUqzL",
        "outputId": "25117d6b-2b43-4a50-a068-e81136192348",
        "colab": {
          "base_uri": "https://localhost:8080/",
          "height": 106
        }
      },
      "source": [
        "print(len(X_train))\n",
        "print(X_train.shape)\n",
        "print(y_train.shape)\n",
        "y_train_labels = y_train\n",
        "\n",
        "from keras.utils import to_categorical\n",
        "y_train_labels = to_categorical(y_train_labels)\n",
        "print(y_train_labels.shape)\n",
        "\n",
        "y_validation_labels = y_validation\n",
        "from keras.utils import to_categorical\n",
        "y_validation_labels = to_categorical(y_validation_labels)\n",
        "print(y_validation_labels.shape)\n"
      ],
      "execution_count": 0,
      "outputs": [
        {
          "output_type": "stream",
          "text": [
            "41352\n",
            "(41352, 32, 32, 1)\n",
            "(41352,)\n",
            "(41352, 43)\n",
            "(10338, 43)\n"
          ],
          "name": "stdout"
        }
      ]
    },
    {
      "cell_type": "code",
      "metadata": {
        "id": "s51YU7smKl1n",
        "colab_type": "code",
        "outputId": "b1c531bf-ee74-4dea-c98f-baf6ecb6c380",
        "colab": {
          "base_uri": "https://localhost:8080/",
          "height": 355
        }
      },
      "source": [
        "history = model.fit(X_train, y_train_labels, epochs=10, validation_data=(X_validation, y_validation_labels))"
      ],
      "execution_count": 0,
      "outputs": [
        {
          "output_type": "stream",
          "text": [
            "41352/41352 [==============================] - 18s 425us/step - loss: 1.4089 - acc: 0.6649 - val_loss: 0.4620 - val_acc: 0.8750\n",
            "Epoch 2/10\n",
            "41352/41352 [==============================] - 11s 259us/step - loss: 0.3139 - acc: 0.9151 - val_loss: 0.4177 - val_acc: 0.8929\n",
            "Epoch 3/10\n",
            "41352/41352 [==============================] - 11s 260us/step - loss: 0.2186 - acc: 0.9425 - val_loss: 0.2434 - val_acc: 0.9381\n",
            "Epoch 4/10\n",
            "41352/41352 [==============================] - 11s 259us/step - loss: 0.1784 - acc: 0.9529 - val_loss: 0.2717 - val_acc: 0.9460\n",
            "Epoch 5/10\n",
            "41352/41352 [==============================] - 11s 260us/step - loss: 0.1549 - acc: 0.9612 - val_loss: 0.2750 - val_acc: 0.9424\n",
            "Epoch 6/10\n",
            "41352/41352 [==============================] - 11s 259us/step - loss: 0.1469 - acc: 0.9650 - val_loss: 0.2867 - val_acc: 0.9420\n",
            "Epoch 7/10\n",
            "41352/41352 [==============================] - 11s 259us/step - loss: 0.1272 - acc: 0.9690 - val_loss: 0.5551 - val_acc: 0.9089\n",
            "Epoch 8/10\n",
            "41352/41352 [==============================] - 11s 259us/step - loss: 0.1537 - acc: 0.9671 - val_loss: 0.2042 - val_acc: 0.9622\n",
            "Epoch 9/10\n",
            "41352/41352 [==============================] - 11s 258us/step - loss: 0.1394 - acc: 0.9713 - val_loss: 0.2455 - val_acc: 0.9571\n",
            "Epoch 10/10\n",
            "41352/41352 [==============================] - 11s 260us/step - loss: 0.1355 - acc: 0.9719 - val_loss: 0.2334 - val_acc: 0.9644\n"
          ],
          "name": "stdout"
        }
      ]
    },
    {
      "cell_type": "code",
      "metadata": {
        "id": "jc-7BR8lry6L",
        "colab_type": "code",
        "outputId": "7e8da07c-2195-46b6-da78-0fa863891140",
        "colab": {
          "base_uri": "https://localhost:8080/",
          "height": 1000
        }
      },
      "source": [
        "from keras.utils import plot_model\n",
        "plot_model(model, to_file='model.png',expand_nested= True,show_shapes=True)"
      ],
      "execution_count": 0,
      "outputs": [
        {
          "output_type": "execute_result",
          "data": {
            "image/png": "[encoded data removed]",
            "text/plain": [
              "<IPython.core.display.Image object>"
            ]
          },
          "metadata": {
            "tags": []
          },
          "execution_count": 45
        }
      ]
    },
    {
      "cell_type": "code",
      "metadata": {
        "id": "TpzmAhgxem9O",
        "colab_type": "code",
        "colab": {}
      },
      "source": [
        "plt.plot(history.history['acc'])\n",
        "plt.plot(history.history['val_acc'])\n",
        "plt.title('model accuracy')\n",
        "plt.ylabel('accuracy')\n",
        "plt.xlabel('epoch')\n",
        "plt.legend(['train', 'test'], loc='upper left')\n",
        "plt.show()\n",
        "# summarize history for loss\n",
        "plt.plot(history.history['loss'])\n",
        "plt.plot(history.history['val_loss'])\n",
        "plt.title('model loss')\n",
        "plt.ylabel('loss')\n",
        "plt.xlabel('epoch')\n",
        "plt.legend(['train', 'test'], loc='upper left')\n",
        "plt.show() "
      ],
      "execution_count": 0,
      "outputs": []
    },
    {
      "cell_type": "code",
      "metadata": {
        "id": "o7isdtFlJ5gE",
        "colab_type": "code",
        "outputId": "5e3045bc-ecb4-4dfb-be3b-69f307caf027",
        "colab": {
          "base_uri": "https://localhost:8080/",
          "height": 159
        }
      },
      "source": [
        "layer_no = 2 # 2,0\n",
        "for layer_no in [0,2]:\n",
        "  kernelWidth = model.layers[layer_no].get_weights()[0].shape[0]\n",
        "  kernelHeight = model.layers[layer_no].get_weights()[0].shape[1]\n",
        "  kernelDepth = model.layers[layer_no].get_weights()[0].shape[2]\n",
        "  print(\"Kernel Width : \", kernelWidth)\n",
        "  print(\"Kernel Height : \", kernelHeight)\n",
        "  print(\"Kernel Depth : \", kernelDepth)\n",
        "  numChannels = model.layers[layer_no].get_weights()[0].shape[3]\n",
        "  print(\"Num Channels : \", numChannels)\n",
        "  fileName = model.layers[layer_no].name\n",
        "  fileName += \".txt\"\n",
        "  fileHandler = open(fileName, \"w\")\n",
        "  for channels in range(0, numChannels):\n",
        "    for depth in range(kernelDepth):\n",
        "      for width in range(kernelWidth):\n",
        "        for height in range(kernelHeight):\n",
        "          fileHandler.write(str(model.layers[layer_no].get_weights()[0][width, height, depth, channels]) + \" \")\n",
        "  fileHandler.write(\"\\n\")\n",
        "  # Store biases\n",
        "  for channels in range(0, numChannels):\n",
        "    fileHandler.write(str(model.layers[layer_no].get_weights()[1][channels]) + \" \");\n",
        "  fileHandler.close()\n"
      ],
      "execution_count": 0,
      "outputs": [
        {
          "output_type": "stream",
          "text": [
            "Kernel Width :  5\n",
            "Kernel Height :  5\n",
            "Kernel Depth :  1\n",
            "Num Channels :  6\n",
            "Kernel Width :  5\n",
            "Kernel Height :  5\n",
            "Kernel Depth :  6\n",
            "Num Channels :  16\n"
          ],
          "name": "stdout"
        }
      ]
    },
    {
      "cell_type": "code",
      "metadata": {
        "id": "YKNFE0f4M3NA",
        "colab_type": "code",
        "outputId": "1eb62ede-aa5a-45ec-d808-eade17a2ffa5",
        "colab": {
          "base_uri": "https://localhost:8080/",
          "height": 124
        }
      },
      "source": [
        "# Fully connected\n",
        "for fc_layer in [6,7,8]:\n",
        "  #fc_layer = 7   # 5,6,7\n",
        "  inputFeatures = model.layers[fc_layer].get_weights()[0].shape[0]\n",
        "  outFeatures = model.layers[fc_layer].get_weights()[0].shape[1]\n",
        "  print(\"Input features dim : \", inputFeatures)\n",
        "  print(\"Out Features dim : \", outFeatures)\n",
        "  fileName = model.layers[fc_layer].name\n",
        "  fileName += \".txt\"\n",
        "  fileHandler = open(fileName, \"w\")\n",
        "  for outFeature in range(0, outFeatures):\n",
        "    for inFeature in range(0, inputFeatures):\n",
        "      fileHandler.write(str(model.layers[fc_layer].get_weights()[0][inFeature][outFeature]) + \" \")\n",
        "  fileHandler.write(\"\\n\")\n",
        "\n",
        "  for bias in range(0, outFeatures):\n",
        "    fileHandler.write(str(model.layers[fc_layer].get_weights()[1][bias]) + \" \")\n",
        "  fileHandler.close()"
      ],
      "execution_count": 0,
      "outputs": [
        {
          "output_type": "stream",
          "text": [
            "Input features dim :  1024\n",
            "Out Features dim :  120\n",
            "Input features dim :  120\n",
            "Out Features dim :  84\n",
            "Input features dim :  84\n",
            "Out Features dim :  43\n"
          ],
          "name": "stdout"
        }
      ]
    },
    {
      "cell_type": "code",
      "metadata": {
        "id": "wp2o1bX0ep54",
        "colab_type": "code",
        "colab": {}
      },
      "source": [
        "# Storing Convolution layer\n",
        "#for no_layers in [0,2]:\n",
        " # print(no_layers)\n",
        "  #layer_weights_all = model.layers[no_layers].get_weights()[0]\n",
        "  #layer_biases_all  = model.layers[no_layers].get_weights()[1]\n",
        "  #print(model.layers[no_layers].name)\n",
        "  #print(layer_weights_all.shape)\n",
        "  #file_name = model.layers[no_layers].name + '.txt'\n",
        "  #f= open(file_name,\"w+\")\n",
        "  #for filter_no in range(0,layer_weights_all.shape[3]):\n",
        "  #  data = layer_weights_all[:,:,:,filter_no].flatten()\n",
        "  #  for index in range(0,len(data)):\n",
        "  #    f.write(\"%f \" % (data[index]))\n",
        "  #f.write(\"\\n\")\n",
        "  #for bias_index in range(0,len(layer_biases_all)):\n",
        "  #  f.write(\"%f \"% layer_biases_all[bias_index])\n",
        "  #f.close()\n",
        "  #print(len(data))\n",
        "  #a = tuple(first_layer_weights)\n",
        "  #!echo \"$data\" >> \"$file_name\"\n",
        "  \n",
        "#print((first_layer_weights))\n",
        "#print((first_layer_biases))"
      ],
      "execution_count": 0,
      "outputs": []
    },
    {
      "cell_type": "code",
      "metadata": {
        "id": "OaQN471N_61D",
        "colab_type": "code",
        "colab": {}
      },
      "source": [
        "# Storing FC data\n",
        "#for no_layers in [5,6,7]:\n",
        " # print(no_layers)\n",
        "  #layer_weights_all = model.layers[no_layers].get_weights()[0]\n",
        "  #layer_biases_all  = model.layers[no_layers].get_weights()[1]\n",
        "  #print(model.layers[no_layers].name)\n",
        "  #print(layer_weights_all.shape)\n",
        "  \n",
        "  #file_name = model.layers[no_layers].name + '.txt'\n",
        "  \n",
        "  #f= open(file_name,\"w+\")\n",
        "  #for row_no in range(0,layer_weights_all.shape[0]):\n",
        "  #  data = layer_weights_all[row_no,:].flatten()\n",
        "  #  for index in range(0,len(data)):\n",
        "  #    f.write(\"%f \" % (data[index]))\n",
        "  #f.write(\"\\n\")\n",
        "  #for bias_index in range(0,len(layer_biases_all)):\n",
        "  #  f.write(\"%f \"% layer_biases_all[bias_index])\n",
        "  #f.close()"
      ],
      "execution_count": 0,
      "outputs": []
    }
  ]
}